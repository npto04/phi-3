{
 "cells": [
  {
   "cell_type": "code",
   "outputs": [
    {
     "name": "stdout",
     "output_type": "stream",
     "text": [
      "\u001B[33mWARNING: Running pip as the 'root' user can result in broken permissions and conflicting behaviour with the system package manager. It is recommended to use a virtual environment instead: https://pip.pypa.io/warnings/venv\u001B[0m\u001B[33m\r\n",
      "\u001B[0m"
     ]
    }
   ],
   "source": [
    "!pip install -q langchain"
   ],
   "metadata": {
    "collapsed": false,
    "ExecuteTime": {
     "end_time": "2024-04-30T18:10:37.897588Z",
     "start_time": "2024-04-30T18:10:33.501479Z"
    }
   },
   "id": "ffa4ca2849e0c31c",
   "execution_count": 1
  },
  {
   "cell_type": "code",
   "outputs": [],
   "source": [
    "from langchain_community.llms import Ollama\n",
    "\n",
    "llm = Ollama(model=\"phi3:instruct\", timeout=120.0, base_url=\"http://host.docker.internal:11434\", num_gpu=1)"
   ],
   "metadata": {
    "collapsed": false,
    "ExecuteTime": {
     "end_time": "2024-05-01T20:00:51.596598Z",
     "start_time": "2024-05-01T20:00:51.027464Z"
    }
   },
   "id": "e62f50f67e0b37ca",
   "execution_count": 1
  },
  {
   "cell_type": "code",
   "outputs": [],
   "source": [
    "from operator import itemgetter\n",
    "import requests\n",
    "from typing import Dict, List\n",
    "\n",
    "from langchain_core.messages import AIMessage\n",
    "from langchain_core.runnables import Runnable, RunnablePassthrough\n",
    "from langchain_core.tools import tool\n",
    "from langchain_core.output_parsers import JsonOutputParser"
   ],
   "metadata": {
    "collapsed": false,
    "ExecuteTime": {
     "end_time": "2024-05-01T20:00:55.244252Z",
     "start_time": "2024-05-01T20:00:55.044679Z"
    }
   },
   "id": "5a7ad7c9c5a8540c",
   "execution_count": 2
  },
  {
   "cell_type": "code",
   "outputs": [],
   "source": [
    "HOST = \"api.frankfurter.app\"\n",
    "\n",
    "@tool\n",
    "def convert_currency(amount: float, currency1: str, currency2: str) -> dict:\n",
    "    \"\"\"Converts currency.\"\"\"\n",
    "    url = f\"https://{HOST}/latest?amount={amount}&from={currency1.upper()}&to={currency2.upper()}\"\n",
    "    resp = requests.get(url=url)\n",
    "    \n",
    "    return resp.json()\n",
    "    \n",
    "tools = [convert_currency]\n",
    "\n",
    "\n",
    "def tool_chain(model_output):\n",
    "    tool_map = {tool.name: tool for tool in tools}\n",
    "    chosen_tool = tool_map[model_output[\"name\"]]\n",
    "    return itemgetter(\"arguments\") | chosen_tool"
   ],
   "metadata": {
    "collapsed": false,
    "ExecuteTime": {
     "end_time": "2024-05-01T20:01:00.615287Z",
     "start_time": "2024-05-01T20:01:00.604205Z"
    }
   },
   "id": "5bbd9cbbaf395ad6",
   "execution_count": 3
  },
  {
   "cell_type": "code",
   "outputs": [
    {
     "data": {
      "text/plain": "'convert_currency: convert_currency(amount: float, currency1: str, currency2: str) -> dict - Converts currency.'"
     },
     "execution_count": 4,
     "metadata": {},
     "output_type": "execute_result"
    }
   ],
   "source": [
    "from langchain.tools.render import render_text_description\n",
    "\n",
    "rendered_tools = render_text_description([convert_currency])\n",
    "rendered_tools"
   ],
   "metadata": {
    "collapsed": false,
    "ExecuteTime": {
     "end_time": "2024-05-01T20:01:05.723436Z",
     "start_time": "2024-05-01T20:01:05.708317Z"
    }
   },
   "id": "ec385e3d680825e",
   "execution_count": 4
  },
  {
   "cell_type": "code",
   "outputs": [],
   "source": [
    "from langchain_core.prompts import ChatPromptTemplate\n",
    "\n",
    "system_prompt = \"\"\"[INST] <<SYS>>You are an assistant that has access to the following set of tools. Here are the names and descriptions for each tool:\n",
    "\n",
    "<tools>\n",
    "{tools}\n",
    "</tools>\n",
    "\n",
    "If you don't know the answer, just say that you don't know. Given the user input, return the name and input of the tool to use. Return your response as a JSON blob with 'name' and 'arguments' keys. Format the inputs properly as described by the tool.\n",
    "\n",
    "<</SYS>>\n",
    "\n",
    " {question} [/INST]\"\"\"\n",
    "\n",
    "\n",
    "prompt = ChatPromptTemplate.from_template(system_prompt)\n",
    "\n",
    "chain = prompt | llm | JsonOutputParser() | RunnablePassthrough.assign(output=tool_chain)"
   ],
   "metadata": {
    "collapsed": false,
    "ExecuteTime": {
     "end_time": "2024-05-01T00:02:05.269790Z",
     "start_time": "2024-05-01T00:02:05.263531Z"
    }
   },
   "id": "815b8d887d91f5d4",
   "execution_count": 30
  },
  {
   "cell_type": "code",
   "outputs": [
    {
     "data": {
      "text/plain": "ChatPromptTemplate(input_variables=['question', 'tools'], messages=[HumanMessagePromptTemplate(prompt=PromptTemplate(input_variables=['question', 'tools'], template=\"[INST] <<SYS>>You are an assistant that has access to the following set of tools. Here are the names and descriptions for each tool:\\n\\n<tools>\\n{tools}\\n</tools>\\n\\nIf you don't know the answer, just say that you don't know. Given the user input, return the name and input of the tool to use. Return your response as a JSON blob with 'name' and 'arguments' keys. Format the inputs properly as described by the tool.\\n\\n<</SYS>>\\n\\n {question} [/INST]\"))])"
     },
     "execution_count": 31,
     "metadata": {},
     "output_type": "execute_result"
    }
   ],
   "source": [
    "prompt"
   ],
   "metadata": {
    "collapsed": false,
    "ExecuteTime": {
     "end_time": "2024-05-01T00:02:06.139165Z",
     "start_time": "2024-05-01T00:02:06.133001Z"
    }
   },
   "id": "34bf64b85aca80ea",
   "execution_count": 31
  },
  {
   "cell_type": "code",
   "outputs": [
    {
     "data": {
      "text/plain": "{'name': 'convert_currency',\n 'arguments': {'amount': 10, 'currency1': 'GBP', 'currency2': 'USD'},\n 'output': {'amount': 10.0,\n  'base': 'GBP',\n  'date': '2024-04-30',\n  'rates': {'USD': 12.5389}}}"
     },
     "execution_count": 20,
     "metadata": {},
     "output_type": "execute_result"
    }
   ],
   "source": [
    "chain.invoke({\"tools\": rendered_tools, \"question\": \"convert 10 British Pounds to USD\"})"
   ],
   "metadata": {
    "collapsed": false,
    "ExecuteTime": {
     "end_time": "2024-04-30T23:32:36.823061Z",
     "start_time": "2024-04-30T23:32:28.714602Z"
    }
   },
   "id": "288372fc37267683",
   "execution_count": 20
  },
  {
   "cell_type": "markdown",
   "source": [
    "# Agent "
   ],
   "metadata": {
    "collapsed": false
   },
   "id": "e4dea32bceb88814"
  },
  {
   "cell_type": "code",
   "outputs": [],
   "source": [
    "from langchain_community.chat_models import ChatOllama\n",
    "\n",
    "llm = ChatOllama(model=\"phi3:instruct\", timeout=120.0, base_url=\"http://host.docker.internal:11434\", num_gpu=1, temperature=0)"
   ],
   "metadata": {
    "collapsed": false,
    "ExecuteTime": {
     "end_time": "2024-05-01T20:18:44.937916Z",
     "start_time": "2024-05-01T20:18:44.704232Z"
    }
   },
   "id": "ced74cde6426097f",
   "execution_count": 9
  },
  {
   "cell_type": "code",
   "outputs": [],
   "source": [
    "from operator import itemgetter\n",
    "import requests\n",
    "from typing import Dict, List, Optional, Type\n",
    "\n",
    "from langchain.pydantic_v1 import BaseModel, Field\n",
    "from langchain.tools import BaseTool\n",
    "from langchain.callbacks.manager import (\n",
    "    AsyncCallbackManagerForToolRun,\n",
    "    CallbackManagerForToolRun,\n",
    ")\n",
    "\n",
    "HOST = \"api.frankfurter.app\"\n",
    "\n",
    "\n",
    "def convert_currency(amount: float, currency1: str, currency2: str) -> str:\n",
    "    \"\"\"Converts currency.\n",
    "        amount (float): The amount of currency to convert. It must be always numeric.\n",
    "        currency1 (str): The currency to convert from. It must be a valid currency code. Examples: USD, EUR, GBP.\n",
    "        currency2 (str): The currency to convert to. It must be a valid currency code. Examples: USD, EUR, GBP.\n",
    "    \"\"\"\n",
    "    try:\n",
    "        url = f\"https://{HOST}/latest?amount={amount}&from={currency1.upper()}&to={currency2.upper()}\"\n",
    "        resp = requests.get(url=url)\n",
    "    \n",
    "        return resp.text\n",
    "    except Exception as e:\n",
    "        return str(e)\n",
    "    \n",
    "class ConvertCurrencyInput(BaseModel):\n",
    "    amount: float = Field(..., title=\"Amount\", description=\"The amount of currency to convert. It must be always numeric.\")\n",
    "    currency1: str = Field(..., title=\"Currency 1\", description=\"The currency to convert from. It must be a valid currency code. Examples: USD, EUR, GBP.\")\n",
    "    currency2: str = Field(..., title=\"Currency 2\", description=\"The currency to convert to. It must be a valid currency code. Examples: USD, EUR, GBP.\")\n",
    "    \n",
    "    \n",
    "class ConvertCurrencyTool(BaseTool):\n",
    "    name = \"convert_currency\"\n",
    "    description = \"Usefull for converting currency.\"\n",
    "    args_schema: Type[BaseModel] = ConvertCurrencyInput\n",
    "    return_direct: bool = True\n",
    "    \n",
    "    def _run(\n",
    "            self, \n",
    "            amount: float, \n",
    "            currency1: str, \n",
    "            currency2: str, \n",
    "            run_manager: Optional[CallbackManagerForToolRun] = None,\n",
    "    ) -> str:\n",
    "        \"\"\"Tool to convert currency.\"\"\"\n",
    "        return convert_currency(amount, currency1, currency2)\n",
    "    \n",
    "    async def _run_async(\n",
    "            self, \n",
    "            amount: float, \n",
    "            currency1: str, \n",
    "            currency2: str, \n",
    "            run_manager: Optional[AsyncCallbackManagerForToolRun] = None,\n",
    "    ) -> str:\n",
    "        \"\"\"Tool to convert currency.\"\"\"\n",
    "        return convert_currency(amount, currency1, currency2)\n",
    "    \n"
   ],
   "metadata": {
    "collapsed": false,
    "ExecuteTime": {
     "end_time": "2024-05-01T20:18:46.091135Z",
     "start_time": "2024-05-01T20:18:45.820875Z"
    }
   },
   "id": "dd014ef42ce47960",
   "execution_count": 10
  },
  {
   "cell_type": "code",
   "outputs": [],
   "source": [
    "tools = [ConvertCurrencyTool()]"
   ],
   "metadata": {
    "collapsed": false,
    "ExecuteTime": {
     "end_time": "2024-05-01T20:56:01.223224Z",
     "start_time": "2024-05-01T20:56:01.212968Z"
    }
   },
   "id": "7188f50efcf807c3",
   "execution_count": 34
  },
  {
   "cell_type": "code",
   "outputs": [
    {
     "data": {
      "text/plain": "[ConvertCurrencyTool()]"
     },
     "execution_count": 35,
     "metadata": {},
     "output_type": "execute_result"
    }
   ],
   "source": [
    "tools"
   ],
   "metadata": {
    "collapsed": false,
    "ExecuteTime": {
     "end_time": "2024-05-01T20:56:06.254570Z",
     "start_time": "2024-05-01T20:56:06.247077Z"
    }
   },
   "id": "f6bc7ed10071777a",
   "execution_count": 35
  },
  {
   "cell_type": "code",
   "outputs": [],
   "source": [
    "from langchain.tools.render import render_text_description_and_args\n",
    "rendered_tools = render_text_description_and_args(tools).replace('{', '{{').replace('}', '}}')\n",
    "tool_names = [t.name for t in tools]"
   ],
   "metadata": {
    "collapsed": false,
    "ExecuteTime": {
     "end_time": "2024-05-01T20:56:16.345765Z",
     "start_time": "2024-05-01T20:56:16.338639Z"
    }
   },
   "id": "1537985d0dfa3c82",
   "execution_count": 36
  },
  {
   "cell_type": "code",
   "outputs": [
    {
     "data": {
      "text/plain": "\"convert_currency: Usefull for converting currency., args: {{'amount': {{'title': 'Amount', 'description': 'The amount of currency to convert. It must be always numeric.', 'type': 'number'}}, 'currency1': {{'title': 'Currency 1', 'description': 'The currency to convert from. It must be a valid currency code. Examples: USD, EUR, GBP.', 'type': 'string'}}, 'currency2': {{'title': 'Currency 2', 'description': 'The currency to convert to. It must be a valid currency code. Examples: USD, EUR, GBP.', 'type': 'string'}}}}\""
     },
     "execution_count": 37,
     "metadata": {},
     "output_type": "execute_result"
    }
   ],
   "source": [
    "rendered_tools"
   ],
   "metadata": {
    "collapsed": false,
    "ExecuteTime": {
     "end_time": "2024-05-01T20:56:18.062598Z",
     "start_time": "2024-05-01T20:56:18.055535Z"
    }
   },
   "id": "f948f61d7787532d",
   "execution_count": 37
  },
  {
   "cell_type": "code",
   "outputs": [],
   "source": [
    "from langchain_core.prompts import ChatPromptTemplate\n",
    "\n",
    "prompt = ChatPromptTemplate.from_messages([\n",
    "    (\"system\", f\"\"\"Respond to the human as helpfully and accurately as possible. You have access to the following tools:\n",
    "\n",
    "{rendered_tools}\n",
    "\n",
    "Use a json blob to specify a tool by providing an action key (tool name) and an action_input key (tool input).\n",
    "\n",
    "Valid \"action\" values: \"Final Answer\" or {tool_names}\n",
    "\n",
    "Provide only ONE action per $JSON_BLOB, as shown:\n",
    "\n",
    "```\n",
    "{{{{\n",
    "  \"action\": $TOOL_NAME,\n",
    "  \"action_input\": $INPUT\n",
    "}}}}\n",
    "```\n",
    "\n",
    "Follow this format:\n",
    "\n",
    "Question: input question to answer\n",
    "Thought: consider previous and subsequent steps\n",
    "Action:\n",
    "```\n",
    "$JSON_BLOB\n",
    "```\n",
    "Observation: action result\n",
    "... (repeat Thought/Action/Observation N times)\n",
    "Thought: I know what to respond\n",
    "Action:\n",
    "```\n",
    "{{{{\n",
    "  \"action\": \"Final Answer\",\n",
    "  \"action_input\": \"Final response to human\"\n",
    "}}}}\n",
    "\n",
    "Begin! Reminder to ALWAYS respond with a valid json blob of a single action. Use tools if necessary. Respond directly if appropriate. Format is Action:```$JSON_BLOB```then Observation\"\"\"),\n",
    "    (\"placeholder\", \"{chat_history}\"),\n",
    "    (\"human\", \"\"\"{input}\n",
    "\n",
    "{agent_scratchpad}\n",
    " (reminder to respond in a JSON blob no matter what)\"\"\"),\n",
    "])"
   ],
   "metadata": {
    "collapsed": false,
    "ExecuteTime": {
     "end_time": "2024-05-01T20:56:53.694971Z",
     "start_time": "2024-05-01T20:56:53.690005Z"
    }
   },
   "id": "f677b08e8e9ee3fc",
   "execution_count": 40
  },
  {
   "cell_type": "code",
   "outputs": [
    {
     "name": "stdout",
     "output_type": "stream",
     "text": [
      "input_variables=['agent_scratchpad', 'input'] input_types={'chat_history': typing.List[typing.Union[langchain_core.messages.ai.AIMessage, langchain_core.messages.human.HumanMessage, langchain_core.messages.chat.ChatMessage, langchain_core.messages.system.SystemMessage, langchain_core.messages.function.FunctionMessage, langchain_core.messages.tool.ToolMessage]]} partial_variables={'chat_history': []} messages=[SystemMessagePromptTemplate(prompt=PromptTemplate(input_variables=[], template='Respond to the human as helpfully and accurately as possible. You have access to the following tools:\\n\\nconvert_currency: Usefull for converting currency., args: {{\\'amount\\': {{\\'title\\': \\'Amount\\', \\'description\\': \\'The amount of currency to convert. It must be always numeric.\\', \\'type\\': \\'number\\'}}, \\'currency1\\': {{\\'title\\': \\'Currency 1\\', \\'description\\': \\'The currency to convert from. It must be a valid currency code. Examples: USD, EUR, GBP.\\', \\'type\\': \\'string\\'}}, \\'currency2\\': {{\\'title\\': \\'Currency 2\\', \\'description\\': \\'The currency to convert to. It must be a valid currency code. Examples: USD, EUR, GBP.\\', \\'type\\': \\'string\\'}}}}\\n\\nUse a json blob to specify a tool by providing an action key (tool name) and an action_input key (tool input).\\n\\nValid \"action\" values: \"Final Answer\" or [\\'convert_currency\\']\\n\\nProvide only ONE action per $JSON_BLOB, as shown:\\n\\n```\\n{{\\n  \"action\": $TOOL_NAME,\\n  \"action_input\": $INPUT\\n}}\\n```\\n\\nFollow this format:\\n\\nQuestion: input question to answer\\nThought: consider previous and subsequent steps\\nAction:\\n```\\n$JSON_BLOB\\n```\\nObservation: action result\\n... (repeat Thought/Action/Observation N times)\\nThought: I know what to respond\\nAction:\\n```\\n{{\\n  \"action\": \"Final Answer\",\\n  \"action_input\": \"Final response to human\"\\n}}\\n\\nBegin! Reminder to ALWAYS respond with a valid json blob of a single action. Use tools if necessary. Respond directly if appropriate. Format is Action:```$JSON_BLOB```then Observation')), MessagesPlaceholder(variable_name='chat_history', optional=True), HumanMessagePromptTemplate(prompt=PromptTemplate(input_variables=['agent_scratchpad', 'input'], template='{input}\\n\\n{agent_scratchpad}\\n (reminder to respond in a JSON blob no matter what)'))]\n"
     ]
    }
   ],
   "source": [
    "print(prompt)"
   ],
   "metadata": {
    "collapsed": false,
    "ExecuteTime": {
     "end_time": "2024-05-01T20:56:55.028301Z",
     "start_time": "2024-05-01T20:56:55.022717Z"
    }
   },
   "id": "ee99e90ee5a83a33",
   "execution_count": 41
  },
  {
   "cell_type": "code",
   "outputs": [],
   "source": [
    "from typing import Tuple\n",
    "from langchain_core.messages import AIMessage, HumanMessage\n",
    "\n",
    "def _format_chat_history(chat_history: List[Tuple[str, str]]):\n",
    "    buffer = []\n",
    "    for human, ai in chat_history:\n",
    "        buffer.append(HumanMessage(content=human))\n",
    "        buffer.append(AIMessage(content=ai))\n",
    "    return buffer"
   ],
   "metadata": {
    "collapsed": false,
    "ExecuteTime": {
     "end_time": "2024-05-01T20:57:08.969506Z",
     "start_time": "2024-05-01T20:57:08.962034Z"
    }
   },
   "id": "6569add979268f52",
   "execution_count": 42
  },
  {
   "cell_type": "code",
   "outputs": [],
   "source": [
    "from langchain.agents import AgentExecutor\n",
    "from langchain.agents.format_scratchpad import format_log_to_messages\n",
    "from langchain.agents.output_parsers import (\n",
    "    ReActJsonSingleInputOutputParser, \n",
    "    JSONAgentOutputParser,\n",
    ")\n",
    "\n",
    "\n",
    "chat_model_with_stop = llm.bind(stop=[\"\\nObservation\"])\n",
    "\n",
    "\n",
    "agent = (\n",
    "    {\n",
    "        \"input\": lambda x: x[\"input\"],\n",
    "        \"agent_scratchpad\": lambda x: format_log_to_messages(x[\"intermediate_steps\"]),\n",
    "        \"chat_history\": lambda x: (\n",
    "            _format_chat_history(x[\"chat_history\"]) if x.get(\"chat_history\") else []\n",
    "        ),\n",
    "    }\n",
    "    | prompt\n",
    "    | chat_model_with_stop\n",
    "    | JSONAgentOutputParser()\n",
    ")\n",
    "\n",
    "\n",
    "# Add typing for input\n",
    "class AgentInput(BaseModel):\n",
    "    input: str\n",
    "    chat_history: List[Tuple[str, str]] = Field(\n",
    "        ..., extra={\"widget\": {\"type\": \"chat\", \"input\": \"input\", \"output\": \"output\"}}\n",
    "    )\n",
    "    \n",
    "    \n",
    "executor = (AgentExecutor(\n",
    "    agent=agent, \n",
    "    tools=tools, \n",
    "    return_intermediate_steps=True,\n",
    "    verbose=True,\n",
    "    handle_parsing_errors=True,\n",
    "    ).with_types(input_type=AgentInput))"
   ],
   "metadata": {
    "collapsed": false,
    "ExecuteTime": {
     "end_time": "2024-05-01T20:57:09.864907Z",
     "start_time": "2024-05-01T20:57:09.825540Z"
    }
   },
   "id": "81a3317ac5b53043",
   "execution_count": 43
  },
  {
   "cell_type": "code",
   "outputs": [
    {
     "name": "stdout",
     "output_type": "stream",
     "text": [
      "\n",
      "\n",
      "\u001B[1m> Entering new AgentExecutor chain...\u001B[0m\n",
      "\u001B[32;1m\u001B[1;3m{\n",
      "  \"action\": \"convert_currency\",\n",
      "  \"action_input\": {\n",
      "    \"amount\": 1,\n",
      "    \"currency1\": \"GBP\",\n",
      "    \"currency2\": \"USD\"\n",
      "  }\n",
      "}\u001B[0m\u001B[36;1m\u001B[1;3m{\"amount\":1.0,\"base\":\"GBP\",\"date\":\"2024-04-30\",\"rates\":{\"USD\":1.2539}}\u001B[0m\n",
      "\u001B[32;1m\u001B[1;3m\u001B[0m\n",
      "\n",
      "\u001B[1m> Finished chain.\u001B[0m\n"
     ]
    },
    {
     "data": {
      "text/plain": "{'input': 'convert 1 British Pounds to USD',\n 'chat_history': [],\n 'output': '{\"amount\":1.0,\"base\":\"GBP\",\"date\":\"2024-04-30\",\"rates\":{\"USD\":1.2539}}',\n 'intermediate_steps': [(AgentAction(tool='convert_currency', tool_input={'amount': 1, 'currency1': 'GBP', 'currency2': 'USD'}, log='{\\n  \"action\": \"convert_currency\",\\n  \"action_input\": {\\n    \"amount\": 1,\\n    \"currency1\": \"GBP\",\\n    \"currency2\": \"USD\"\\n  }\\n}'),\n   '{\"amount\":1.0,\"base\":\"GBP\",\"date\":\"2024-04-30\",\"rates\":{\"USD\":1.2539}}')]}"
     },
     "execution_count": 44,
     "metadata": {},
     "output_type": "execute_result"
    }
   ],
   "source": [
    "executor.invoke({\"input\": \"convert 1 British Pounds to USD\", \"chat_history\": []})"
   ],
   "metadata": {
    "collapsed": false,
    "ExecuteTime": {
     "end_time": "2024-05-01T20:57:29.501841Z",
     "start_time": "2024-05-01T20:57:12.650505Z"
    }
   },
   "id": "d49aad50bec57c01",
   "execution_count": 44
  },
  {
   "cell_type": "code",
   "outputs": [
    {
     "name": "stdout",
     "output_type": "stream",
     "text": [
      "\n",
      "\n",
      "\u001B[1m> Entering new AgentExecutor chain...\u001B[0m\n",
      "\u001B[32;1m\u001B[1;3m{\n",
      "  \"action\": \"convert_currency\",\n",
      "  \"action_input\": {\n",
      "    \"amount\": 1,\n",
      "    \"currency1\": \"EUR\",\n",
      "    \"currency2\": \"BRL\"\n",
      "  }\n",
      "}\u001B[0m\u001B[36;1m\u001B[1;3m{\"amount\":1.0,\"base\":\"EUR\",\"date\":\"2024-04-30\",\"rates\":{\"BRL\":5.4928}}\u001B[0m\n",
      "\u001B[32;1m\u001B[1;3m\u001B[0m\n",
      "\n",
      "\u001B[1m> Finished chain.\u001B[0m\n"
     ]
    },
    {
     "data": {
      "text/plain": "{'input': 'convert 1 euros to Brazilian Real',\n 'output': '{\"amount\":1.0,\"base\":\"EUR\",\"date\":\"2024-04-30\",\"rates\":{\"BRL\":5.4928}}',\n 'intermediate_steps': [(AgentAction(tool='convert_currency', tool_input={'amount': 1, 'currency1': 'EUR', 'currency2': 'BRL'}, log='{\\n  \"action\": \"convert_currency\",\\n  \"action_input\": {\\n    \"amount\": 1,\\n    \"currency1\": \"EUR\",\\n    \"currency2\": \"BRL\"\\n  }\\n}'),\n   '{\"amount\":1.0,\"base\":\"EUR\",\"date\":\"2024-04-30\",\"rates\":{\"BRL\":5.4928}}')]}"
     },
     "execution_count": 49,
     "metadata": {},
     "output_type": "execute_result"
    }
   ],
   "source": [
    "executor.invoke({\"input\": \"convert 1 euros to Brazilian Real\"})"
   ],
   "metadata": {
    "collapsed": false,
    "ExecuteTime": {
     "end_time": "2024-05-01T21:31:44.929241Z",
     "start_time": "2024-05-01T21:31:33.598179Z"
    }
   },
   "id": "6fe880fa7762164",
   "execution_count": 49
  },
  {
   "cell_type": "code",
   "outputs": [
    {
     "name": "stdout",
     "output_type": "stream",
     "text": [
      "\n",
      "\n",
      "\u001B[1m> Entering new AgentExecutor chain...\u001B[0m\n",
      "\u001B[32;1m\u001B[1;3m{\n",
      "  \"action\": \"convert_currency\",\n",
      "  \"action_input\": {\n",
      "    \"amount\": 10,\n",
      "    \"currency1\": \"GBP\",\n",
      "    \"currency2\": \"USD\"\n",
      "  }\n",
      "}\u001B[0m\u001B[36;1m\u001B[1;3m{\"amount\":10.0,\"base\":\"GBP\",\"date\":\"2024-04-30\",\"rates\":{\"USD\":12.5389}}\u001B[0m\n",
      "\u001B[32;1m\u001B[1;3m\u001B[0m\n",
      "\n",
      "\u001B[1m> Finished chain.\u001B[0m\n"
     ]
    },
    {
     "data": {
      "text/plain": "{'input': 'convert 10 British Pounds to USD',\n 'chat_history': [],\n 'output': '{\"amount\":10.0,\"base\":\"GBP\",\"date\":\"2024-04-30\",\"rates\":{\"USD\":12.5389}}',\n 'intermediate_steps': [(AgentAction(tool='convert_currency', tool_input={'amount': 10, 'currency1': 'GBP', 'currency2': 'USD'}, log='{\\n  \"action\": \"convert_currency\",\\n  \"action_input\": {\\n    \"amount\": 10,\\n    \"currency1\": \"GBP\",\\n    \"currency2\": \"USD\"\\n  }\\n}'),\n   '{\"amount\":10.0,\"base\":\"GBP\",\"date\":\"2024-04-30\",\"rates\":{\"USD\":12.5389}}')]}"
     },
     "execution_count": 46,
     "metadata": {},
     "output_type": "execute_result"
    }
   ],
   "source": [
    "executor.invoke({\"input\": \"convert 10 British Pounds to USD\", \"chat_history\": []})"
   ],
   "metadata": {
    "collapsed": false,
    "ExecuteTime": {
     "end_time": "2024-05-01T21:00:09.686680Z",
     "start_time": "2024-05-01T20:59:59.786482Z"
    }
   },
   "id": "fb2ecf67cac775e7",
   "execution_count": 46
  },
  {
   "cell_type": "code",
   "outputs": [
    {
     "name": "stdout",
     "output_type": "stream",
     "text": [
      "\n",
      "\n",
      "\u001B[1m> Entering new AgentExecutor chain...\u001B[0m\n",
      "\u001B[32;1m\u001B[1;3m{\n",
      "  \"action\": \"convert_currency\",\n",
      "  \"action_input\": {\n",
      "    \"amount\": 1,\n",
      "    \"currency1\": \"GBP\",\n",
      "    \"currency2\": \"BRL\"\n",
      "  }\n",
      "}\u001B[0m\u001B[36;1m\u001B[1;3m{\"amount\":1.0,\"base\":\"GBP\",\"date\":\"2024-04-30\",\"rates\":{\"BRL\":6.426}}\u001B[0m\n",
      "\u001B[32;1m\u001B[1;3m\u001B[0m\n",
      "\n",
      "\u001B[1m> Finished chain.\u001B[0m\n"
     ]
    },
    {
     "data": {
      "text/plain": "{'input': 'convert 1 British Pounds to Brazilian Real',\n 'chat_history': [],\n 'output': '{\"amount\":1.0,\"base\":\"GBP\",\"date\":\"2024-04-30\",\"rates\":{\"BRL\":6.426}}',\n 'intermediate_steps': [(AgentAction(tool='convert_currency', tool_input={'amount': 1, 'currency1': 'GBP', 'currency2': 'BRL'}, log='{\\n  \"action\": \"convert_currency\",\\n  \"action_input\": {\\n    \"amount\": 1,\\n    \"currency1\": \"GBP\",\\n    \"currency2\": \"BRL\"\\n  }\\n}'),\n   '{\"amount\":1.0,\"base\":\"GBP\",\"date\":\"2024-04-30\",\"rates\":{\"BRL\":6.426}}')]}"
     },
     "execution_count": 47,
     "metadata": {},
     "output_type": "execute_result"
    }
   ],
   "source": [
    "executor.invoke({\"input\": \"convert 1 British Pounds to Brazilian Real\", \"chat_history\": []})"
   ],
   "metadata": {
    "collapsed": false,
    "ExecuteTime": {
     "end_time": "2024-05-01T21:00:23.044007Z",
     "start_time": "2024-05-01T21:00:12.854367Z"
    }
   },
   "id": "5312655e76508bc3",
   "execution_count": 47
  },
  {
   "cell_type": "code",
   "outputs": [],
   "source": [
    "import requests\n",
    "\n",
    "data = {\"text\": \"convert 1 British Pounds to USD\", \"chat_history\": []}\n",
    "response = requests.post(\"http://localhost:8000/chat\", json=data)"
   ],
   "metadata": {
    "collapsed": false,
    "ExecuteTime": {
     "end_time": "2024-05-02T16:33:51.760896Z",
     "start_time": "2024-05-02T16:33:40.690146Z"
    }
   },
   "id": "dd50a89602129a10",
   "execution_count": 5
  },
  {
   "cell_type": "code",
   "outputs": [
    {
     "data": {
      "text/plain": "{'input': 'convert 1 British Pounds to USD',\n 'output': '{\"amount\":1.0,\"base\":\"GBP\",\"date\":\"2024-05-02\",\"rates\":{\"USD\":1.2507}}',\n 'intermediate_steps': ['(AgentAction(tool=\\'convert_currency\\', tool_input={\\'amount\\': 1, \\'currency1\\': \\'GBP\\', \\'currency2\\': \\'USD\\'}, log=\\'{\\\\n  \"action\": \"convert_currency\",\\\\n  \"action_input\": {\\\\n    \"amount\": 1,\\\\n    \"currency1\": \"GBP\",\\\\n    \"currency2\": \"USD\"\\\\n  }\\\\n}\\'), \\'{\"amount\":1.0,\"base\":\"GBP\",\"date\":\"2024-05-02\",\"rates\":{\"USD\":1.2507}}\\')']}"
     },
     "execution_count": 6,
     "metadata": {},
     "output_type": "execute_result"
    }
   ],
   "source": [
    "response.json()"
   ],
   "metadata": {
    "collapsed": false,
    "ExecuteTime": {
     "end_time": "2024-05-02T16:34:04.293103Z",
     "start_time": "2024-05-02T16:34:04.284624Z"
    }
   },
   "id": "1748f69eff3f4f58",
   "execution_count": 6
  },
  {
   "cell_type": "code",
   "outputs": [],
   "source": [],
   "metadata": {
    "collapsed": false
   },
   "id": "305162598d767fc8"
  }
 ],
 "metadata": {
  "kernelspec": {
   "display_name": "Python 3",
   "language": "python",
   "name": "python3"
  },
  "language_info": {
   "codemirror_mode": {
    "name": "ipython",
    "version": 2
   },
   "file_extension": ".py",
   "mimetype": "text/x-python",
   "name": "python",
   "nbconvert_exporter": "python",
   "pygments_lexer": "ipython2",
   "version": "2.7.6"
  }
 },
 "nbformat": 4,
 "nbformat_minor": 5
}
